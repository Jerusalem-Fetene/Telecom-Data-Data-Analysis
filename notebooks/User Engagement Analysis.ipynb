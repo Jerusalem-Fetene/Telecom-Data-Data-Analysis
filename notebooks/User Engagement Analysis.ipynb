{
 "cells": [
  {
   "cell_type": "markdown",
   "metadata": {},
   "source": [
    "# Task 2 - User Engagement Analysis"
   ]
  },
  {
   "cell_type": "markdown",
   "metadata": {},
   "source": [
    "calculate r engagement metric"
   ]
  },
  {
   "cell_type": "code",
   "execution_count": null,
   "metadata": {},
   "outputs": [],
   "source": [
    "import pandas as pd\n",
    "\n",
    "# Load the dataset\n",
    "df = pd.read_csv('your_dataset.csv')\n",
    "\n",
    "# Calculate engagement metrics per user and application\n",
    "engagement_metrics = df.groupby(['user_id', 'application']).agg(\n",
    "    total_session_duration=('session_duration', 'sum'),\n",
    "    number_of_sessions=('session_id', 'count'),\n",
    "    total_download=('download_data', 'sum'),\n",
    "    total_upload=('upload_data', 'sum'),\n",
    ").reset_index()\n",
    "\n",
    "# Define engagement score (example: weighted sum)\n",
    "engagement_metrics['engagement_score'] = (\n",
    "    engagement_metrics['total_session_duration'] * 0.5 +\n",
    "    engagement_metrics['number_of_sessions'] * 0.3 +\n",
    "    (engagement_metrics['total_download'] + engagement_metrics['total_upload']) * 0.2\n",
    ")\n",
    "print(engagement_metrics)"
   ]
  },
  {
   "cell_type": "markdown",
   "metadata": {},
   "source": [
    "analyse engagement metric"
   ]
  },
  {
   "cell_type": "code",
   "execution_count": null,
   "metadata": {},
   "outputs": [],
   "source": [
    "# Calculate average engagement score per application\n",
    "app_engagement = engagement_metrics.groupby('application').agg(\n",
    "    average_engagement_score=('engagement_score', 'mean'),\n",
    "    total_users=('user_id', 'nunique')\n",
    ").reset_index().sort_values(by='average_engagement_score', ascending=False)\n",
    "\n",
    "print(app_engagement)"
   ]
  },
  {
   "cell_type": "markdown",
   "metadata": {},
   "source": [
    "visualize engagement levels"
   ]
  },
  {
   "cell_type": "code",
   "execution_count": null,
   "metadata": {},
   "outputs": [],
   "source": [
    "import matplotlib.pyplot as plt\n",
    "import seaborn as sns\n",
    "\n",
    "# Bar plot of average engagement scores\n",
    "plt.figure(figsize=(10, 6))\n",
    "sns.barplot(data=app_engagement, x='average_engagement_score', y='application')\n",
    "plt.title('Average Engagement Scores by Application')\n",
    "plt.xlabel('Average Engagement Score')\n",
    "plt.ylabel('Application')\n",
    "plt.show()"
   ]
  },
  {
   "cell_type": "markdown",
   "metadata": {},
   "source": [
    "or"
   ]
  },
  {
   "cell_type": "code",
   "execution_count": null,
   "metadata": {},
   "outputs": [],
   "source": [
    "import matplotlib.pyplot as plt\n",
    "import seaborn as sns\n",
    "\n",
    "# Plotting the metrics\n",
    "plt.figure(figsize=(15, 5))\n",
    "\n",
    "# Sessions Frequency\n",
    "plt.subplot(1, 3, 1)\n",
    "sns.histplot(engagement_metrics['sessions_frequency'], bins=30, kde=True)\n",
    "plt.title('Sessions Frequency Distribution')\n",
    "plt.xlabel('Sessions Frequency')\n",
    "plt.ylabel('Count')\n",
    "\n",
    "# Total Session Duration\n",
    "plt.subplot(1, 3, 2)\n",
    "sns.histplot(engagement_metrics['total_session_duration'], bins=30, kde=True)\n",
    "plt.title('Total Session Duration Distribution')\n",
    "plt.xlabel('Total Session Duration (seconds)')\n",
    "plt.ylabel('Count')\n",
    "\n",
    "# Total Traffic\n",
    "plt.subplot(1, 3, 3)\n",
    "sns.histplot(engagement_metrics['total_traffic'], bins=30, kde=True)\n",
    "plt.title('Total Traffic Distribution')\n",
    "plt.xlabel('Total Traffic (bytes)')\n",
    "plt.ylabel('Count')\n",
    "\n",
    "plt.tight_layout()\n",
    "plt.show()"
   ]
  },
  {
   "cell_type": "markdown",
   "metadata": {},
   "source": [
    "calculate engagement metrics"
   ]
  },
  {
   "cell_type": "code",
   "execution_count": null,
   "metadata": {},
   "outputs": [],
   "source": [
    "import pandas as pd\n",
    "\n",
    "# Load the dataset\n",
    "df = pd.read_csv('your_dataset.csv')\n",
    "\n",
    "# Calculate engagement metrics per user and application\n",
    "engagement_metrics = df.groupby(['user_id', 'application']).agg(\n",
    "    sessions_frequency=('session_id', 'count'),  # Total number of sessions\n",
    "    total_session_duration=('session_duration', 'sum'),  # Duration of all sessions\n",
    "    total_traffic=('download_data', 'sum') + ('upload_data', 'sum')  # Total traffic in bytes\n",
    ").reset_index()\n",
    "\n",
    "# Rename columns for clarity\n",
    "engagement_metrics.rename(columns={\n",
    "    'sessions_frequency': 'sessions_frequency',\n",
    "    'total_session_duration': 'total_session_duration',\n",
    "    'total_traffic': 'total_traffic'\n",
    "}, inplace=True)\n",
    "\n",
    "# Display the engagement metrics\n",
    "print(engagement_metrics)"
   ]
  },
  {
   "cell_type": "markdown",
   "metadata": {},
   "source": [
    "analyse engagement metrics"
   ]
  },
  {
   "cell_type": "code",
   "execution_count": null,
   "metadata": {},
   "outputs": [],
   "source": [
    "# Summary statistics\n",
    "summary_statistics = engagement_metrics[['sessions_frequency', 'total_session_duration', 'total_traffic']].describe()\n",
    "print(summary_statistics)"
   ]
  },
  {
   "cell_type": "markdown",
   "metadata": {},
   "source": [
    "Aggregate the above metrics per customer id (MSISDN)"
   ]
  },
  {
   "cell_type": "code",
   "execution_count": null,
   "metadata": {},
   "outputs": [],
   "source": [
    "import pandas as pd\n",
    "\n",
    "# Load the dataset\n",
    "df = pd.read_csv('your_dataset.csv')\n",
    "\n",
    "# Aggregate metrics per customer ID (MSISDN)\n",
    "engagement_metrics = df.groupby('MSISDN').agg(\n",
    "    sessions_frequency=('session_id', 'count'),\n",
    "    total_session_duration=('session_duration', 'sum'),\n",
    "    total_traffic=('download_data', 'sum') + ('upload_data', 'sum')\n",
    ").reset_index()\n",
    "\n",
    "# Report the top 10 customers per engagement metric\n",
    "top_customers_frequency = engagement_metrics.nlargest(10, 'sessions_frequency')\n",
    "top_customers_duration = engagement_metrics.nlargest(10, 'total_session_duration')\n",
    "top_customers_traffic = engagement_metrics.nlargest(10, 'total_traffic')\n",
    "\n",
    "print(\"Top 10 Customers by Session Frequency:\")\n",
    "print(top_customers_frequency)\n",
    "\n",
    "print(\"Top 10 Customers by Total Session Duration:\")\n",
    "print(top_customers_duration)\n",
    "\n",
    "print(\"Top 10 Customers by Total Traffic:\")\n",
    "print(top_customers_traffic)"
   ]
  },
  {
   "cell_type": "markdown",
   "metadata": {},
   "source": [
    "Normalize each engagement metric and run a k-means (k=3) to classify customers \n",
    "in three groups of engagement."
   ]
  },
  {
   "cell_type": "code",
   "execution_count": null,
   "metadata": {},
   "outputs": [],
   "source": [
    "from sklearn.preprocessing import StandardScaler\n",
    "from sklearn.cluster import KMeans\n",
    "\n",
    "# Normalize the engagement metrics\n",
    "scaler = StandardScaler()\n",
    "normalized_metrics = scaler.fit_transform(engagement_metrics[['sessions_frequency', 'total_session_duration', 'total_traffic']])\n",
    "\n",
    "# Run K-Means clustering\n",
    "kmeans = KMeans(n_clusters=3, random_state=42)\n",
    "engagement_clusters = kmeans.fit_predict(normalized_metrics)\n",
    "\n",
    "# Add cluster labels to the original DataFrame\n",
    "engagement_metrics['cluster'] = engagement_clusters"
   ]
  },
  {
   "cell_type": "markdown",
   "metadata": {},
   "source": [
    "Compute total non-normalized metrics for each cluster. Interpret your results visually with accompanying text explaining your \n",
    "findings."
   ]
  },
  {
   "cell_type": "code",
   "execution_count": null,
   "metadata": {},
   "outputs": [],
   "source": [
    "# Compute min, max, average & total non-normalized metrics for each cluster\n",
    "cluster_summary = engagement_metrics.groupby('cluster').agg(\n",
    "    min_sessions_frequency=('sessions_frequency', 'min'),\n",
    "    max_sessions_frequency=('sessions_frequency', 'max'),\n",
    "    avg_sessions_frequency=('sessions_frequency', 'mean'),\n",
    "    total_sessions_frequency=('sessions_frequency', 'sum'),\n",
    "    min_total_session_duration=('total_session_duration', 'min'),\n",
    "    max_total_session_duration=('total_session_duration', 'max'),\n",
    "    avg_total_session_duration=('total_session_duration', 'mean'),\n",
    "    total_total_session_duration=('total_session_duration', 'sum'),\n",
    "    min_total_traffic=('total_traffic', 'min'),\n",
    "    max_total_traffic=('total_traffic', 'max'),\n",
    "    avg_total_traffic=('total_traffic', 'mean'),\n",
    "    total_total_traffic=('total_traffic', 'sum')\n",
    ").reset_index()\n",
    "\n",
    "print(cluster_summary)"
   ]
  },
  {
   "cell_type": "markdown",
   "metadata": {},
   "source": [
    "Aggregate user total traffic per application"
   ]
  },
  {
   "cell_type": "code",
   "execution_count": null,
   "metadata": {},
   "outputs": [],
   "source": [
    "# Aggregate user total traffic per application\n",
    "app_traffic = df.groupby('application').agg(\n",
    "    total_traffic=('download_data', 'sum') + ('upload_data', 'sum')\n",
    ").reset_index()\n",
    "\n",
    "# Derive top 10 most engaged users per application\n",
    "top_users_per_app = df.groupby(['application', 'MSISDN']).agg(\n",
    "    total_traffic=('download_data', 'sum') + ('upload_data', 'sum')\n",
    ").reset_index()\n",
    "\n",
    "top_users_per_app = top_users_per_app.sort_values(by=['application', 'total_traffic'], ascending=False).groupby('application').head(10)"
   ]
  },
  {
   "cell_type": "markdown",
   "metadata": {},
   "source": [
    "Plot the top 3 most used applications"
   ]
  },
  {
   "cell_type": "code",
   "execution_count": null,
   "metadata": {},
   "outputs": [],
   "source": [
    "# Plotting the top 3 applications\n",
    "top_apps = app_traffic.nlargest(3, 'total_traffic')\n",
    "\n",
    "plt.figure(figsize=(8, 5))\n",
    "sns.barplot(data=top_apps, x='total_traffic', y='application')\n",
    "plt.title('Top 3 Most Used Applications by Total Traffic')\n",
    "plt.xlabel('Total Traffic (bytes)')\n",
    "plt.ylabel('Application')\n",
    "plt.show()"
   ]
  },
  {
   "cell_type": "markdown",
   "metadata": {},
   "source": [
    "optimize value of k using elbow method"
   ]
  },
  {
   "cell_type": "code",
   "execution_count": null,
   "metadata": {},
   "outputs": [],
   "source": [
    "# Elbow method for optimal k\n",
    "inertia = []\n",
    "k_range = range(1, 10)  # Test for k from 1 to 9\n",
    "for k in k_range:\n",
    "    kmeans = KMeans(n_clusters=k, random_state=42)\n",
    "    kmeans.fit(normalized_metrics)\n",
    "    inertia.append(kmeans.inertia_)\n",
    "\n",
    "# Plot elbow method results\n",
    "plt.figure(figsize=(8, 5))\n",
    "plt.plot(k_range, inertia, marker='o')\n",
    "plt.title('Elbow Method for Optimal K')\n",
    "plt.xlabel('Number of Clusters (k)')\n",
    "plt.ylabel('Inertia')\n",
    "plt.xticks(k_range)\n",
    "plt.show()"
   ]
  }
 ],
 "metadata": {
  "language_info": {
   "name": "python"
  }
 },
 "nbformat": 4,
 "nbformat_minor": 2
}
